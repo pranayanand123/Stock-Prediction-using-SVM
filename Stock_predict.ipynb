{
 "cells": [
  {
   "cell_type": "code",
   "execution_count": 177,
   "metadata": {},
   "outputs": [],
   "source": [
    "import requests\n",
    "import simplejson\n",
    "import json\n",
    "import re\n",
    "import operator\n",
    "import sys\n",
    "from urllib.request import urlopen\n",
    "import os\n",
    "import csv\n",
    "import numpy as np\n",
    "from sklearn.svm import SVR\n",
    "import matplotlib.pyplot as matplt\n",
    "%matplotlib inline  "
   ]
  },
  {
   "cell_type": "code",
   "execution_count": 237,
   "metadata": {},
   "outputs": [],
   "source": [
    "#Change company_name to the one's whose stocks you want to predict\n",
    "company_name = \"facebook\""
   ]
  },
  {
   "cell_type": "code",
   "execution_count": 238,
   "metadata": {},
   "outputs": [],
   "source": [
    "yahoo_stock_code=\"http://d.yimg.com/autoc.finance.yahoo.com/autoc?query=\"\n",
    "yahoo_excess_code=\"&region=1&lang=en\"\n",
    "stock_url=yahoo_stock_code+company_name+yahoo_excess_code\n",
    "response=requests.get(stock_url)"
   ]
  },
  {
   "cell_type": "code",
   "execution_count": 239,
   "metadata": {},
   "outputs": [
    {
     "name": "stdout",
     "output_type": "stream",
     "text": [
      "FB\n"
     ]
    }
   ],
   "source": [
    "data=simplejson.loads(response.content.decode(\"utf-8\"))\n",
    "code=data['ResultSet']['Result'][0]['symbol']\n",
    "print(code)"
   ]
  },
  {
   "cell_type": "code",
   "execution_count": 240,
   "metadata": {},
   "outputs": [],
   "source": [
    "API_KEY = \"get your own from https://www.alphavantage.co/\"\n",
    "base_url = \"https://www.alphavantage.co/query?function=TIME_SERIES_DAILY&symbol=\"\n",
    "dataset_url=base_url+code+\"&outputsize=full&apikey=\"+API_KEY+\"&datatype=csv\""
   ]
  },
  {
   "cell_type": "code",
   "execution_count": 241,
   "metadata": {},
   "outputs": [],
   "source": [
    "output_path=code+\".csv\""
   ]
  },
  {
   "cell_type": "code",
   "execution_count": 242,
   "metadata": {},
   "outputs": [],
   "source": [
    "response = requests.get(dataset_url)\n",
    "with open(output_path, 'wb') as f:\n",
    "    f.write(response.content)"
   ]
  },
  {
   "cell_type": "code",
   "execution_count": 243,
   "metadata": {},
   "outputs": [],
   "source": [
    "date=[]\n",
    "price=[]\n",
    "with open(output_path) as datasource:\n",
    "\tr=csv.reader(datasource)\n",
    "\tnext(r)\n",
    "\tfor row in r:\n",
    "\t\tdate.append(int(row[0].split('-')[0]))\n",
    "\t\tprice.append(float(row[1]))"
   ]
  },
  {
   "cell_type": "code",
   "execution_count": 244,
   "metadata": {},
   "outputs": [],
   "source": [
    "date=np.reshape(date,(len(date),1))"
   ]
  },
  {
   "cell_type": "code",
   "execution_count": 245,
   "metadata": {},
   "outputs": [],
   "source": [
    "svr_rbf1=SVR(kernel='rbf',gamma=0.1)"
   ]
  },
  {
   "cell_type": "code",
   "execution_count": 246,
   "metadata": {},
   "outputs": [
    {
     "data": {
      "text/plain": [
       "SVR(C=1.0, cache_size=200, coef0=0.0, degree=3, epsilon=0.1, gamma=0.1,\n",
       "  kernel='rbf', max_iter=-1, shrinking=True, tol=0.001, verbose=False)"
      ]
     },
     "execution_count": 246,
     "metadata": {},
     "output_type": "execute_result"
    }
   ],
   "source": [
    "svr_rbf1.fit(date,price)"
   ]
  },
  {
   "cell_type": "code",
   "execution_count": 247,
   "metadata": {},
   "outputs": [
    {
     "data": {
      "text/plain": [
       "93.370449055368482"
      ]
     },
     "execution_count": 247,
     "metadata": {},
     "output_type": "execute_result"
    }
   ],
   "source": [
    "svr_rbf1.predict(7)[0]"
   ]
  },
  {
   "cell_type": "code",
   "execution_count": 248,
   "metadata": {},
   "outputs": [
    {
     "data": {
      "image/png": "[encoded data removed]",
      "text/plain": [
       "<matplotlib.figure.Figure at 0x18230de5940>"
      ]
     },
     "metadata": {},
     "output_type": "display_data"
    }
   ],
   "source": [
    "matplt.scatter(date,price,color='black',label='data')\n",
    "matplt.plot(date,svr_rbf.predict(date),color='red',label='RBF SVR')\n",
    "matplt.xlabel('Dates')\n",
    "matplt.ylabel('Price')\n",
    "matplt.title('Stock Estimation with Support Vector Regression')\n",
    "matplt.legend()\n",
    "matplt.show()"
   ]
  },
  {
   "cell_type": "code",
   "execution_count": null,
   "metadata": {},
   "outputs": [],
   "source": []
  }
 ],
 "metadata": {
  "kernelspec": {
   "display_name": "Python 3",
   "language": "python",
   "name": "python3"
  },
  "language_info": {
   "codemirror_mode": {
    "name": "ipython",
    "version": 3
   },
   "file_extension": ".py",
   "mimetype": "text/x-python",
   "name": "python",
   "nbconvert_exporter": "python",
   "pygments_lexer": "ipython3",
   "version": "3.6.4"
  }
 },
 "nbformat": 4,
 "nbformat_minor": 2
}
